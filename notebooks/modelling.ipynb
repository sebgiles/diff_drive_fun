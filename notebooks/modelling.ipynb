{
 "cells": [
  {
   "cell_type": "code",
   "execution_count": 4,
   "id": "1b109cc2",
   "metadata": {},
   "outputs": [],
   "source": [
    "from sympy import Matrix as Mx\n",
    "from sympy import eye as I\n",
    "from sympy import Symbol as S\n",
    "from sympy import Eq\n",
    "from sympy.physics.mechanics import dynamicsymbols as S_t\n",
    "from sympy.physics.mechanics import init_vprinting\n",
    "init_vprinting()\n",
    "import sympy as sym"
   ]
  },
  {
   "cell_type": "markdown",
   "id": "9ead9e6b",
   "metadata": {},
   "source": [
    "### State and input\n",
    "$ u_j = [\\omega_R, \\omega_L]^T $ Wheel speeds.\n",
    "\n",
    "$ x = [v, \\omega]^T $ Base velocity.\n",
    "\n",
    "$ \\tau = [\\tau_R, \\tau_L]^T$ Motor torques (at the wheels)."
   ]
  },
  {
   "cell_type": "code",
   "execution_count": 18,
   "id": "8e20671e",
   "metadata": {},
   "outputs": [],
   "source": [
    "omega_R = S_t('\\omega_R')\n",
    "omega_L = S_t('\\omega_L')\n",
    "h = Mx([omega_R, omega_L])\n",
    "\n",
    "v     = S_t('v')\n",
    "omega = S_t('\\omega')\n",
    "x = Mx([v, omega])\n",
    "\n",
    "tau_R = S_t('\\\\tau_R')\n",
    "tau_L = S_t('\\\\tau_L')\n",
    "tau = Mx([tau_R, tau_L])"
   ]
  },
  {
   "cell_type": "code",
   "execution_count": 19,
   "id": "038d6eea",
   "metadata": {},
   "outputs": [],
   "source": [
    "# Physical constants\n",
    "d   = S('d')    # Distance between wheels\n",
    "m   = S('m')    # Total Mass of the robot\n",
    "I_z = S('I_z')  # Robot inertia about the wheels midpoint\n",
    "I_W = S('I_W')  # Wheel + Gearbox rotational inertia (at the wheel)\n",
    "r   = S('r')    # Wheel radius\n",
    "l   = S('l')    # Forward CoM offset"
   ]
  },
  {
   "cell_type": "markdown",
   "id": "82cf55e5",
   "metadata": {},
   "source": [
    "Don't forget that\n",
    "$I_z = I_{CoM} + l^2m$"
   ]
  },
  {
   "cell_type": "markdown",
   "id": "1f8027de",
   "metadata": {},
   "source": [
    "### Diff-drive kinematics\n",
    "Mapping from left and right wheel speeds to linear and angular velocity of the robot (no-slip assumption):\n",
    "\n",
    "$x = J h$"
   ]
  },
  {
   "cell_type": "code",
   "execution_count": 27,
   "id": "05828476",
   "metadata": {},
   "outputs": [
    {
     "data": {
      "text/latex": [
       "$\\displaystyle \\left[\\begin{matrix}\\frac{r}{2} & \\frac{r}{2}\\\\\\frac{r}{d} & - \\frac{r}{d}\\end{matrix}\\right]$"
      ],
      "text/plain": [
       "⎡r   r ⎤\n",
       "⎢─   ─ ⎥\n",
       "⎢2   2 ⎥\n",
       "⎢      ⎥\n",
       "⎢r  -r ⎥\n",
       "⎢─  ───⎥\n",
       "⎣d   d ⎦"
      ]
     },
     "execution_count": 27,
     "metadata": {},
     "output_type": "execute_result"
    }
   ],
   "source": [
    "J = Mx([[r/2,  r/2],\n",
    "        [r/d, -r/d]])\n",
    "J"
   ]
  },
  {
   "cell_type": "markdown",
   "id": "67c14872",
   "metadata": {},
   "source": [
    "### Wheel dynamics\n",
    "$ I_W \\dot\\omega_i = \\tau_i - r f_i \\space\\space\\space\\space\\space\\space i \\in {L, R}$ \n",
    "\n",
    "Solving for $f_i$ (the longitudinal contact forces) and stacking both wheels in matrix form: \n",
    "\n",
    "$ f = \\frac{1}{r}\\tau - \\frac{I_W}{r} \\dot h $"
   ]
  },
  {
   "cell_type": "markdown",
   "id": "a5c3dd17",
   "metadata": {},
   "source": [
    "### Diff-drive dynamics\n",
    "$ m \\dot v = f_R + f_L$\n",
    "\n",
    "$ I_z \\dot \\omega = \\frac{d}{2} f_R - \\frac{d}{2} f_L - l m \\omega v$\n",
    "\n",
    "The last, non-linear term, is the moment of the centrifugal force. We assume centrifugal acceleration does not have an x component, this is bad in case the turning radius is tighter than $l$. \n",
    "\n",
    "You can write those in matrix form as:\n",
    "\n",
    "$ \\dot x = a(x) + Bf $"
   ]
  },
  {
   "cell_type": "code",
   "execution_count": 26,
   "id": "f32370c4",
   "metadata": {},
   "outputs": [
    {
     "data": {
      "text/latex": [
       "$\\displaystyle \\left( \\left[\\begin{matrix}0\\\\- l m \\omega v\\end{matrix}\\right], \\  \\left[\\begin{matrix}\\frac{1}{m} & \\frac{1}{m}\\\\\\frac{d}{2 I_{z}} & - \\frac{d}{2 I_{z}}\\end{matrix}\\right]\\right)$"
      ],
      "text/plain": [
       "⎛                 ⎡  1      1  ⎤⎞\n",
       "⎜                 ⎢  ─      ─  ⎥⎟\n",
       "⎜⎡      0      ⎤  ⎢  m      m  ⎥⎟\n",
       "⎜⎢             ⎥, ⎢            ⎥⎟\n",
       "⎜⎣-l⋅m⋅\\omega⋅v⎦  ⎢  d     -d  ⎥⎟\n",
       "⎜                 ⎢─────  ─────⎥⎟\n",
       "⎝                 ⎣2⋅I_z  2⋅I_z⎦⎠"
      ]
     },
     "execution_count": 26,
     "metadata": {},
     "output_type": "execute_result"
    }
   ],
   "source": [
    "a = Mx([0, - l * m * omega * v])\n",
    "B = Mx([[1/m,      1/m    ],\n",
    "        [d/2/I_z, -d/2/I_z]])\n",
    "a, B"
   ]
  },
  {
   "cell_type": "markdown",
   "id": "3d7bf50c",
   "metadata": {},
   "source": [
    "The model would be linear if our robot had been built with $l=0$ as $b(x)$ would disappear. Intuitively, $b$ adds a quadratic yaw moment in turns (unless you turn in place).\n",
    "\n",
    "The \"quadraticness\" is evident in a constant turn with radius $R$ or curvature $ R^{-1} = \\kappa = \\omega / v$:\n",
    "\n",
    "$ \n",
    "lmv \\omega = \\frac{lm\\omega^2}{R} = lm\\kappa v^2 \n",
    "$"
   ]
  },
  {
   "cell_type": "markdown",
   "id": "7cca26c0",
   "metadata": {},
   "source": [
    "### Full dynamics\n",
    "Plug in the wheel dynamics and use $J$.\n",
    "\n",
    "$ \n",
    "\\dot x = a(x) + B f \n",
    "       = a(x) + \\frac{1}{r} B \\tau - \\frac{I_W}{r} B \\dot h \n",
    "       = a(x) + \\frac{1}{r} B \\tau - \\frac{I_W}{r} B J^{-1} \\dot x \n",
    "$\n",
    "\n",
    "Solve for $\\tau$ to get the inverse dynamics.\n",
    "\n",
    "$ \\tau = ( r B^{-1} + I_W J^{-1} ) (\\dot x + b(x)) = M \\dot x + b(x) $\n",
    "\n",
    "$ M = r B^{-1} + I_W J^{-1} $ is the generalized inertia matrix and $b(x)=Ma(x)$ describes the non-linear inertial forces. Together they provide a coupled feed-forward law for linear and angular acceleration tracking.\n",
    "\n",
    "Solve for $\\dot x$ to obtain forward dynamics, useful for simulation or constraint propagation.\n",
    "\n",
    "$ \\dot x = M^{-1} ( \\tau - b(x)) $"
   ]
  },
  {
   "cell_type": "code",
   "execution_count": 29,
   "id": "7b195a5d",
   "metadata": {},
   "outputs": [
    {
     "data": {
      "text/latex": [
       "$\\displaystyle \\left( \\left[\\begin{matrix}\\frac{I_{W}}{r} + \\frac{m r}{2} & \\frac{I_{W} d}{2 r} + \\frac{I_{z} r}{d}\\\\\\frac{I_{W}}{r} + \\frac{m r}{2} & - \\frac{I_{W} d}{2 r} - \\frac{I_{z} r}{d}\\end{matrix}\\right], \\  \\left[\\begin{matrix}- l m \\left(\\frac{I_{W} d}{2 r} + \\frac{I_{z} r}{d}\\right) \\omega v\\\\- l m \\left(- \\frac{I_{W} d}{2 r} - \\frac{I_{z} r}{d}\\right) \\omega v\\end{matrix}\\right]\\right)$"
      ],
      "text/plain": [
       "⎛⎡I_W   m⋅r   I_W⋅d   I_z⋅r ⎤  ⎡      ⎛I_W⋅d   I_z⋅r⎞          ⎤⎞\n",
       "⎜⎢─── + ───   ───── + ───── ⎥  ⎢ -l⋅m⋅⎜───── + ─────⎟⋅\\omega⋅v ⎥⎟\n",
       "⎜⎢ r     2     2⋅r      d   ⎥  ⎢      ⎝ 2⋅r      d  ⎠          ⎥⎟\n",
       "⎜⎢                          ⎥, ⎢                               ⎥⎟\n",
       "⎜⎢I_W   m⋅r    I_W⋅d   I_z⋅r⎥  ⎢     ⎛  I_W⋅d   I_z⋅r⎞         ⎥⎟\n",
       "⎜⎢─── + ───  - ───── - ─────⎥  ⎢-l⋅m⋅⎜- ───── - ─────⎟⋅\\omega⋅v⎥⎟\n",
       "⎝⎣ r     2      2⋅r      d  ⎦  ⎣     ⎝   2⋅r      d  ⎠         ⎦⎠"
      ]
     },
     "execution_count": 29,
     "metadata": {},
     "output_type": "execute_result"
    }
   ],
   "source": [
    "M = r * B.inv() + I_W * J.inv()\n",
    "b = M * a\n",
    "M, b"
   ]
  },
  {
   "cell_type": "markdown",
   "id": "078dd904",
   "metadata": {},
   "source": [
    "If the reference to track is given as wheel accelerations the feedforward law becomes \n",
    "\n",
    "$ \\tau = M J \\dot h + b(x) $"
   ]
  },
  {
   "cell_type": "code",
   "execution_count": 38,
   "id": "59ec6cda",
   "metadata": {},
   "outputs": [
    {
     "data": {
      "text/latex": [
       "$\\displaystyle \\left[\\begin{matrix}\\tau_{R}\\\\\\tau_{L}\\end{matrix}\\right] = \\left[\\begin{matrix}- l m \\left(\\frac{I_{W} d}{2 r} + \\frac{I_{z} r}{d}\\right) \\omega v + \\left(- \\frac{I_{z} r^{2}}{d^{2}} + \\frac{m r^{2}}{4}\\right) \\dot{\\omega}_{L} + \\left(I_{W} + \\frac{I_{z} r^{2}}{d^{2}} + \\frac{m r^{2}}{4}\\right) \\dot{\\omega}_{R}\\\\- l m \\left(- \\frac{I_{W} d}{2 r} - \\frac{I_{z} r}{d}\\right) \\omega v + \\left(- \\frac{I_{z} r^{2}}{d^{2}} + \\frac{m r^{2}}{4}\\right) \\dot{\\omega}_{R} + \\left(I_{W} + \\frac{I_{z} r^{2}}{d^{2}} + \\frac{m r^{2}}{4}\\right) \\dot{\\omega}_{L}\\end{matrix}\\right]$"
      ],
      "text/plain": [
       "           ⎡                                  ⎛       2      2⎞            ⎛  \n",
       "           ⎢       ⎛I_W⋅d   I_z⋅r⎞            ⎜  I_z⋅r    m⋅r ⎟            ⎜  \n",
       "           ⎢ - l⋅m⋅⎜───── + ─────⎟⋅\\omega⋅v + ⎜- ────── + ────⎟⋅\\omeġa_L + ⎜I\n",
       "           ⎢       ⎝ 2⋅r      d  ⎠            ⎜     2      4  ⎟            ⎜  \n",
       "⎡\\tau_R⎤   ⎢                                  ⎝    d          ⎠            ⎝  \n",
       "⎢      ⎥ = ⎢                                                                  \n",
       "⎣\\tau_L⎦   ⎢                                   ⎛       2      2⎞            ⎛ \n",
       "           ⎢      ⎛  I_W⋅d   I_z⋅r⎞            ⎜  I_z⋅r    m⋅r ⎟            ⎜ \n",
       "           ⎢- l⋅m⋅⎜- ───── - ─────⎟⋅\\omega⋅v + ⎜- ────── + ────⎟⋅\\omeġa_R + ⎜\n",
       "           ⎢      ⎝   2⋅r      d  ⎠            ⎜     2      4  ⎟            ⎜ \n",
       "           ⎣                                   ⎝    d          ⎠            ⎝ \n",
       "\n",
       "         2      2⎞          ⎤\n",
       "    I_z⋅r    m⋅r ⎟          ⎥\n",
       "_W + ────── + ────⎟⋅\\omeġa_R ⎥\n",
       "       2      4  ⎟          ⎥\n",
       "      d          ⎠          ⎥\n",
       "                            ⎥\n",
       "          2      2⎞         ⎥\n",
       "     I_z⋅r    m⋅r ⎟         ⎥\n",
       "I_W + ────── + ────⎟⋅\\omeġa_L⎥\n",
       "        2      4  ⎟         ⎥\n",
       "       d          ⎠         ⎦"
      ]
     },
     "execution_count": 38,
     "metadata": {},
     "output_type": "execute_result"
    }
   ],
   "source": [
    "M_prime = r * B.inv() * J + I_W * I(2)  # M * J\n",
    "Eq(u, M_prime * h.diff() + b)"
   ]
  },
  {
   "cell_type": "markdown",
   "id": "a2ae094d",
   "metadata": {},
   "source": [
    "### Curvature Control\n",
    "If the reference is given as\n",
    "$ x_{des} = [v_{des}, \\omega_{des}]^T $\n",
    "but curvature tracking has priority then an intermediate reference $x_{\\kappa}$ can be generated by a kinematic controller, which modifies the linear and angular velocity references to mitigate the effect of a disturbance on the curvature.\n",
    "\n",
    "$\\kappa_{des} = \\frac{\\omega_{des}}{v_{des}}$\n",
    "\n",
    "$ \\omega_\\kappa = \\kappa_{des} v = \\frac{v}{v_{des}}\\omega_{des} $ \n",
    "\n",
    "$ v_\\kappa = \\frac{\\omega}{\\kappa_{des}} = \\frac{\\omega}{\\omega_{des}}v_{des} $\n",
    "\n",
    "NOTE:\n",
    "1. you need to address division by zero, possibly in a continuos manner.\n",
    "\n",
    "2. if the robot is at standstill, this law prevents it from moving.\n",
    "\n",
    "3. this only tracks curvature and no effort will be made to actually track $ x_{des} $. \n",
    "\n",
    "(2 is a special case of 3 where zero velocity leaves curvature undefined and you are virtually tracking *any* curvature).\n",
    "\n",
    "You can design a tunable function $s$ to address these points.\n",
    "\n",
    "$ \n",
    "x_{\\kappa} = [v_{\\kappa}, \\omega_{\\kappa}]^T =\n",
    "[s(\\omega, \\omega_{des}) v_{des}, \\space\\space\\space s(v, v_{des}) \\omega_{des}]^T\n",
    "$\n",
    "\n",
    "The desired behaviour of $s(y, y_{des})$ is the following. When the desired value $y_{des}$ (denominator) is $0$, $s$ should be limited to $[0,1]$. When $y_{des}$ is not too close to zero, the function should continuously transition to simple division.\n",
    "\n",
    "Given a tolerance $tol$ a piecewise linear implementation of the $y_{des}=0$ case could\n",
    "- take the value 1 when $y < tol$ (effectively ignoring curvature); \n",
    "- take the value 0 when $y > 2tol$ (to stop if there is significant rotation or longitudinal movement when we intend to drive straight or turn in place respectively);\n",
    "- linearly interpolate in between. \n",
    "\n",
    "Additionally, when computing the ratio, the denominator should be constrained to be at least greater than some small value for numerical stability.\n",
    "\n",
    "Finally we can let some $ x_{des} $ always \"leak\" through to address points 2 and 3, taking some priority away from curvature tracking. If the leak is too small, some delay will still be present, if it is too large, the curvature tracking is compromised.\n",
    "\n",
    "Here `s` is a simulation-tested implementation of $s$\n",
    "\n",
    "```python\n",
    "def bump(t):\n",
    "    # This is just a trapezoidal impulse.\n",
    "    return 2 - np.clip(abs(t), 1, 2)\n",
    "\n",
    "def s(y, ydes, tol = 0.01):\n",
    "    # For simplicity, fix ydes to be positive but preserve the sign of the ratio.\n",
    "    y = math.copysign(y, ydes)  \n",
    "    ydes = abs(ydes)\n",
    "    # Pretend feedback is 10% closer to target (leak)\n",
    "    y += (0.1 * (ydes - y))  \n",
    "    ratio = y / max(tol, ydes)\n",
    "    weight = min(ydes / tol, 1)\n",
    "    return weight * ratio + (1 - weight) * bump(ratio)\n",
    "```\n",
    "\n",
    "##### Untested idea\n",
    "The amount of \"leak\" could be determined by \"how much we believe we can do before the next time step\", in fact the \"leak\" does not even need to happen in `s()`.\n",
    "\n",
    "You could predict the best you can do ($x_{pred}$) using constraints and forward dynamics (see $h_{clamp}$ below), this would not only solve points 2 and 3 above but also ensure that $ x_{pred}$  is feasible.\n",
    "If you predict to reach the targets \"exactly\" the curvature adjustment is not needed. This curvature control would only intervene when $ x_{des} $ is not feasible, replacing it with a feasible reference $ x_{\\kappa} $ with the closest possible curvature.\n",
    "\n",
    "This is actually very simple if you draw the $ (v, \\omega) $ plane. Box contraints on wheel torques correspond to box constraints on acceleration, which you can scale by the timestep to get a box of reachable states centered on your current state in the $ (v, \\omega) $ plane. On this plane, equal curvature states are lines through the origin.\n",
    "\n",
    "If $ x_{pred} $ activates both constraints (is on a corner) then it is already the best you can do, the required curvature is not feasible within the next time step. Blame the online trajectory generator!\n",
    "\n",
    "If $ x_{pred} $ activates only one constraint (is on an edge) then you just need to intersect the active constraint with the line of constant curvature $\\omega=\\kappa_{des}v$. \n",
    "\n",
    "If in effect you do not reach it, then there is a model-mismatch, the low-level controller should take care of this. A feedback term here would only be a hack. I believe (religiously) that a reference should always be feasible and quantities should always have a physical meaning.\n",
    "\n",
    "##### Another idea\n",
    "You could use the closed-loop feedback terms from the LLC to measure the model mismatch and use it as part of the model in the calculation above or even $h_{clamp}$ below.\n",
    "\n",
    "##### Another little idea\n",
    "The trapezoidal impulse width could be adjustable, possibly degenerating into a triangle."
   ]
  },
  {
   "cell_type": "markdown",
   "id": "a3200e41",
   "metadata": {},
   "source": [
    "### Low Level Control\n",
    "The target wheel accelerations can be computed as:\n",
    "\n",
    "$ h_{des} = J^{-1} x_{\\kappa} $\n",
    "\n",
    "$ \\dot h_{des} = clamp(k_{FF}(h_{des} - h))$\n",
    "\n",
    "Where the scalar $k_{FF}$ can be made smaller for smoothing the reference (limiting the jerk $\\ddot h$ ) when the error is small and $clamp$ restricts the reference to feasible and desireable values. \n",
    "\n",
    "If there are torque constraints $\\tau_{max}$ (either derived from a friction model or actuator specifications) then $clamp$ should use them. You can convert torque limits to the acceleration limit of each wheel by using forward dynamics.\n",
    "\n",
    "$ \\dot h_{clamp} = J^{-1}(- b(x) + M^{-1} \\tau_{max}) $\n",
    "\n",
    "The Feedforward torque term is the following. If your model is good, this should be \"doing most of the work\".\n",
    "\n",
    "$ u_{FF} = M (J \\dot h_{des} + b(x))$\n",
    "\n",
    "Feedback must be added to this for compensating disturbances.\n",
    "\n",
    "$P$ on acceleration error, requires estimate of acceleration either by measurement or numerical differentiation, could be a reason to avoid it. I recommend this for high performance driving though.\n",
    "\n",
    "$ P(\\dot h) = k_P(\\dot h_{des} - \\dot h)$\n",
    "\n",
    "To implement feedback at the velocity level without competing with the $FF$ term we must take care that the targets are coherent. So we use a fictitious velocity reference that is the integrated acceleration reference. \n",
    "\n",
    "$P$ on velocity error. The acceleration feedback integral is equivalent to the variation in velocity.\n",
    "\n",
    "$ I(\\dot h) = k_I\\int{(\\dot h_{des} - \\dot h)dt}= k_I(\\int{\\dot h_{des}dt} - \\Delta h)$\n",
    "\n",
    "$I$ on velocity error. To avoid competition with the $FF$ term we integrate it and use it as the velocity reference.\n",
    "\n",
    "$ I(h) = k_{I_2}\\int{(\\int{\\dot h_{des}dt} - h)dt} $\n",
    "\n",
    "$P$ or $D$ terms on the velocity error will compete with the . I speculate that once special care is taken to avoid that, they will effectively be identical to $I(\\dot h)$ and $P(\\dot h)$ repsectively.\n",
    " \n",
    "Windup should be prevented by clamping the integrator values to the actuator limits minus the effort of the rest of the controller.\n",
    "\n",
    "<!-- #### All together\n",
    "\n",
    "$M$ and $J$ are constant matrices.\n",
    "\n",
    "$ \\omega_\\kappa = \\frac{v}{v_{des}}\\omega_{des} \\xrightarrow[v_{des} \\to 0]{} \\omega_{des}$ \n",
    "\n",
    "$ v_\\kappa = \\frac{\\omega}{\\omega_{des}}v_{des} \\xrightarrow[\\omega_{des} \\to 0]{} v_{des}$\n",
    "\n",
    "$h_{des} = J^{-1}x_{\\kappa}$\n",
    "\n",
    "$ \\dot h_{des} = clamp(k_{FF}(h_{des} - h))$\n",
    "\n",
    "$ u_{FF} = M (J \\dot h_{des} + b(x)) $\n",
    "\n",
    "$ P(\\dot h) = k_P(\\dot h_{des} - \\dot h)$\n",
    "\n",
    "$ I(\\dot h) = k_I(\\int{\\dot h_{des}dt} - \\Delta h)$\n",
    "\n",
    "$ I(h) = k_{I_2}\\int{(\\int{\\dot h_{des}hdt} - h)dt} $ -->\n",
    "\n",
    "Finally \n",
    "$ u = u_{FF} + P(\\dot h) +  P(h) + I(h) $"
   ]
  },
  {
   "cell_type": "markdown",
   "id": "1afe6bf6",
   "metadata": {},
   "source": [
    "### Sanity checks\n",
    "We expect a Linear term and a cross coupling term for each wheel.\n",
    "\n",
    "The linear terms should not depend on the robot rotational inertia $I_z$.\n",
    "\n",
    "The cross coupling terms should have equal magnitude and opposite signs for each wheel."
   ]
  },
  {
   "cell_type": "code",
   "execution_count": 9,
   "id": "abfbe5cd",
   "metadata": {},
   "outputs": [
    {
     "data": {
      "image/png": "[encoded data removed]",
      "text/latex": [
       "$\\displaystyle \\Delta_{W} = - \\omega_{L} + \\omega_{R}$"
      ],
      "text/plain": [
       "\\Delta_W = -\\omega_L + \\omega_R"
      ]
     },
     "execution_count": 9,
     "metadata": {},
     "output_type": "execute_result"
    }
   ],
   "source": [
    "delta_W = S_t('\\Delta_W')\n",
    "Eq(delta_W, omega_R - omega_L)"
   ]
  },
  {
   "cell_type": "code",
   "execution_count": 10,
   "id": "e10be896",
   "metadata": {},
   "outputs": [
    {
     "data": {
      "image/png": "[encoded data removed]",
      "text/latex": [
       "$\\displaystyle \\tau_{R} = - l m \\left(\\frac{I_{W} d}{2 r} + \\frac{I_{z} r}{d}\\right) \\omega v + \\left(I_{W} + \\frac{m r^{2}}{2}\\right) \\dot{\\omega}_{R} + \\left(- \\frac{I_{z} r^{2}}{d^{2}} + \\frac{m r^{2}}{4}\\right) \\dot{\\Delta}_{W}$"
      ],
      "text/plain": [
       "                                          ⎛         2⎞            ⎛       2      2⎞         \n",
       "               ⎛I_W⋅d   I_z⋅r⎞            ⎜      m⋅r ⎟            ⎜  I_z⋅r    m⋅r ⎟         \n",
       "\\tau_R = - l⋅m⋅⎜───── + ─────⎟⋅\\omega⋅v + ⎜I_W + ────⎟⋅\\omeġa_R + ⎜- ────── + ────⎟⋅\\Delṫa_W\n",
       "               ⎝ 2⋅r      d  ⎠            ⎝       2  ⎠            ⎜     2      4  ⎟         \n",
       "                                                                  ⎝    d          ⎠         "
      ]
     },
     "execution_count": 10,
     "metadata": {},
     "output_type": "execute_result"
    }
   ],
   "source": [
    "x_R = Mx([omega_R, delta_W])\n",
    "T_R = Mx([[1,0],[1,1]])  # Re-parametrization matrix to [omega_R, delta_W]\n",
    "Eq(tau_R, (M_prime * T_R * x_R.diff() + M * b)[0])"
   ]
  },
  {
   "cell_type": "code",
   "execution_count": 11,
   "id": "8cb33856",
   "metadata": {},
   "outputs": [
    {
     "data": {
      "image/png": "[encoded data removed]",
      "text/latex": [
       "$\\displaystyle \\tau_{L} = - l m \\left(- \\frac{I_{W} d}{2 r} - \\frac{I_{z} r}{d}\\right) \\omega v + \\left(I_{W} + \\frac{m r^{2}}{2}\\right) \\dot{\\omega}_{L} + \\left(\\frac{I_{z} r^{2}}{d^{2}} - \\frac{m r^{2}}{4}\\right) \\dot{\\Delta}_{W}$"
      ],
      "text/plain": [
       "                                            ⎛         2⎞            ⎛     2      2⎞         \n",
       "               ⎛  I_W⋅d   I_z⋅r⎞            ⎜      m⋅r ⎟            ⎜I_z⋅r    m⋅r ⎟         \n",
       "\\tau_L = - l⋅m⋅⎜- ───── - ─────⎟⋅\\omega⋅v + ⎜I_W + ────⎟⋅\\omeġa_L + ⎜────── - ────⎟⋅\\Delṫa_W\n",
       "               ⎝   2⋅r      d  ⎠            ⎝       2  ⎠            ⎜   2      4  ⎟         \n",
       "                                                                    ⎝  d          ⎠         "
      ]
     },
     "execution_count": 11,
     "metadata": {},
     "output_type": "execute_result"
    }
   ],
   "source": [
    "x_L = Mx([omega_L, delta_W])\n",
    "T_L = Mx([[1,-1],[1,0]])  # Re-parametrization matrix to [omega_L, delta_W]\n",
    "Eq(tau_L, (M_prime * T_L * x_L.diff() + M * b)[1])"
   ]
  },
  {
   "cell_type": "markdown",
   "id": "3c0140ec",
   "metadata": {},
   "source": [
    "Expectation confirmed!"
   ]
  },
  {
   "cell_type": "code",
   "execution_count": null,
   "id": "05f73265",
   "metadata": {},
   "outputs": [],
   "source": []
  }
 ],
 "metadata": {
  "interpreter": {
   "hash": "e7370f93d1d0cde622a1f8e1c04877d8463912d04d973331ad4851f04de6915a"
  },
  "kernelspec": {
   "display_name": "Python 3.8.10 64-bit",
   "name": "python3"
  },
  "language_info": {
   "codemirror_mode": {
    "name": "ipython",
    "version": 3
   },
   "file_extension": ".py",
   "mimetype": "text/x-python",
   "name": "python",
   "nbconvert_exporter": "python",
   "pygments_lexer": "ipython3",
   "version": "3.8.10"
  }
 },
 "nbformat": 4,
 "nbformat_minor": 5
}
